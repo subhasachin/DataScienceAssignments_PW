{
  "metadata": {
    "kernelspec": {
      "name": "xpython",
      "display_name": "Python 3.13 (XPython)",
      "language": "python"
    },
    "language_info": {
      "file_extension": ".py",
      "mimetype": "text/x-python",
      "name": "python",
      "version": "3.13.1"
    }
  },
  "nbformat_minor": 5,
  "nbformat": 4,
  "cells": [
    {
      "id": "96dfe6be-f2e1-4980-a962-6870a9d5db27",
      "cell_type": "markdown",
      "source": "# Assignment-1",
      "metadata": {}
    },
    {
      "id": "8b9f8c01-1518-4714-8fb2-23e1e97d902e",
      "cell_type": "markdown",
      "source": "### Q1. Create one variable containing following type of data:\n- (i) string\n- (ii) list\n- (iii) float\n- (iv) tuple",
      "metadata": {}
    },
    {
      "id": "97eee371-957a-4242-8b07-69979322cc6d",
      "cell_type": "markdown",
      "source": "#### Answer :",
      "metadata": {}
    },
    {
      "id": "abfbe8e9-0d66-4fe7-9ba6-4ef8fafbfcc8",
      "cell_type": "markdown",
      "source": "- (i) string",
      "metadata": {}
    },
    {
      "id": "253c9623-d6e2-47b1-b847-f4bfe95ae1b1",
      "cell_type": "code",
      "source": "string_var = \"Hello\"\nprint(\"String :\", string_var)",
      "metadata": {
        "trusted": true
      },
      "outputs": [
        {
          "name": "stdout",
          "output_type": "stream",
          "text": "String : Hello\n"
        }
      ],
      "execution_count": 3
    },
    {
      "id": "ba5a7739-d0e3-4d2e-8c1c-7e9499e0cdd3",
      "cell_type": "markdown",
      "source": "- (ii) list",
      "metadata": {}
    },
    {
      "id": "1b222758-0603-4a71-80f0-d05a3f3dec68",
      "cell_type": "code",
      "source": "list_var = [1, 2, 3]\nprint(\"List :\", list_var)",
      "metadata": {
        "trusted": true
      },
      "outputs": [
        {
          "name": "stdout",
          "output_type": "stream",
          "text": "List : [1, 2, 3]\n"
        }
      ],
      "execution_count": 4
    },
    {
      "id": "326c200e-ba1a-45a4-a2f0-5e4040aee9d4",
      "cell_type": "markdown",
      "source": "- (iii) float",
      "metadata": {}
    },
    {
      "id": "b8d6a590-f395-49b1-8383-a4a841c2ac62",
      "cell_type": "code",
      "source": "float_var = 3.14\nprint(\"Float :\", float_var)",
      "metadata": {
        "trusted": true
      },
      "outputs": [
        {
          "name": "stdout",
          "output_type": "stream",
          "text": "String : 3.14\n"
        }
      ],
      "execution_count": 5
    },
    {
      "id": "9b4926af-2675-466e-9782-df3176a04530",
      "cell_type": "markdown",
      "source": "- (iv) tuple",
      "metadata": {}
    },
    {
      "id": "0048258c-1844-4226-8443-5d040e7a1e73",
      "cell_type": "code",
      "source": "tuple_var = (4, 5, 6)\nprint(\"Tuple :\", tuple_var)",
      "metadata": {
        "trusted": true
      },
      "outputs": [
        {
          "name": "stdout",
          "output_type": "stream",
          "text": "Tuple : (4, 5, 6)\n"
        }
      ],
      "execution_count": 6
    },
    {
      "id": "d05dfffc-863c-4e3b-ab4d-1a0afe66efaf",
      "cell_type": "raw",
      "source": "",
      "metadata": {}
    },
    {
      "id": "6d8d282f-307d-4be5-b9ca-7873a781cfe4",
      "cell_type": "markdown",
      "source": "### Q2. Given are some following variables containing data:\n- (i) var1 = ‘ ‘\n- (ii) var2 = ‘[ DS , ML , Python]’\n- (iii) var3 = [ ‘DS’ , ’ML’ , ‘Python’ ]\n- (iv) var4 = 1.\n\nWhat will be the data type of the above given variable.",
      "metadata": {}
    },
    {
      "id": "56b62acf-ba68-4dba-81e4-01b6aa5ed4df",
      "cell_type": "markdown",
      "source": "#### Answer :",
      "metadata": {}
    },
    {
      "id": "39abaefb-d3d8-41b6-9652-ffc375c3bbb7",
      "cell_type": "code",
      "source": "var1 = ' '\nvar2 = '[ DS , ML , Python]'\nvar3 = ['DS', 'ML', 'Python']\nvar4 = 1.",
      "metadata": {
        "trusted": true
      },
      "outputs": [],
      "execution_count": 8
    },
    {
      "id": "3631af62-a9af-4d85-a601-c6aa6f959e51",
      "cell_type": "code",
      "source": "print(\"Data type of var1:\", type(var1))",
      "metadata": {
        "trusted": true
      },
      "outputs": [
        {
          "name": "stdout",
          "output_type": "stream",
          "text": "Data type of var1: <class 'str'>\n"
        }
      ],
      "execution_count": 9
    },
    {
      "id": "2d684cce-77ca-4eab-9ab3-9390927662ba",
      "cell_type": "markdown",
      "source": "type of **var1** is *String*",
      "metadata": {}
    },
    {
      "id": "2af41715-8142-4235-9e27-bd253d21b77f",
      "cell_type": "code",
      "source": "print(\"Data type of var2:\", type(var2))",
      "metadata": {
        "trusted": true
      },
      "outputs": [
        {
          "name": "stdout",
          "output_type": "stream",
          "text": "Data type of var2: <class 'str'>\n"
        }
      ],
      "execution_count": 10
    },
    {
      "id": "85cd9c54-5ddd-48f5-9d89-496f2d66416d",
      "cell_type": "markdown",
      "source": "type of **var2** is *String*",
      "metadata": {}
    },
    {
      "id": "46b42763-1978-4fbc-ab39-c4871c88f67d",
      "cell_type": "code",
      "source": "print(\"Data type of var3:\", type(var3))",
      "metadata": {
        "trusted": true
      },
      "outputs": [
        {
          "name": "stdout",
          "output_type": "stream",
          "text": "Data type of var3: <class 'list'>\n"
        }
      ],
      "execution_count": 11
    },
    {
      "id": "1699f3c3-ce90-4b87-9573-1746b1bd160d",
      "cell_type": "markdown",
      "source": "type of **var3** is *List*",
      "metadata": {}
    },
    {
      "id": "a64650e5-fc4e-49ca-a9d1-015539704e7a",
      "cell_type": "code",
      "source": "print(\"Data type of var4:\", type(var4))",
      "metadata": {
        "trusted": true
      },
      "outputs": [
        {
          "name": "stdout",
          "output_type": "stream",
          "text": "Data type of var4: <class 'float'>\n"
        }
      ],
      "execution_count": 12
    },
    {
      "id": "b4460489-0c1c-43e2-a636-60eceec6ad0c",
      "cell_type": "markdown",
      "source": "type of **var4** is *Float*",
      "metadata": {}
    },
    {
      "id": "2b6e0fa2-f250-4364-94bd-be71ab6194da",
      "cell_type": "markdown",
      "source": "### Q3. Explain the use of the following operators using an example:\n- (i) /\n- (ii) %\n- (iii) //\n(iv) **",
      "metadata": {}
    },
    {
      "id": "e30ac3eb-d63a-4fd1-bbc8-f721b83f35dd",
      "cell_type": "markdown",
      "source": "#### Answer :",
      "metadata": {}
    },
    {
      "id": "0cea7b28-4f9f-4239-be53-774628b277b1",
      "cell_type": "code",
      "source": "a = 10\nb = 3",
      "metadata": {
        "trusted": true
      },
      "outputs": [],
      "execution_count": 13
    },
    {
      "id": "8482c67b-bd0e-4003-91fc-c2f72db2962d",
      "cell_type": "markdown",
      "source": "- (i) /\n\nDivision: gives float result",
      "metadata": {}
    },
    {
      "id": "7d3080d1-c85a-4bf9-87b9-cec91fb6d60c",
      "cell_type": "code",
      "source": "print(\"a / b =\", a / b)",
      "metadata": {
        "trusted": true
      },
      "outputs": [
        {
          "name": "stdout",
          "output_type": "stream",
          "text": "a / b = 3.3333333333333335\n"
        }
      ],
      "execution_count": 14
    },
    {
      "id": "b7fa496c-6b6e-4168-9424-9d30c7ca3769",
      "cell_type": "markdown",
      "source": "- (ii) %\n\nModulus: gives remainder",
      "metadata": {}
    },
    {
      "id": "93e4c22a-9afc-4a87-a91d-0f1aa9d6812e",
      "cell_type": "code",
      "source": "print(\"a % b =\", a % b)",
      "metadata": {
        "trusted": true
      },
      "outputs": [
        {
          "name": "stdout",
          "output_type": "stream",
          "text": "a % b = 1\n"
        }
      ],
      "execution_count": 15
    },
    {
      "id": "7720944f-9dbc-40ea-9425-20d2ba919069",
      "cell_type": "markdown",
      "source": "- (iii) //\n\nFloor Division: gives integer part",
      "metadata": {}
    },
    {
      "id": "27f9bbcd-32f7-4fc5-90d3-820ede958f2a",
      "cell_type": "code",
      "source": "print(\"a // b =\", a // b)",
      "metadata": {
        "trusted": true
      },
      "outputs": [
        {
          "name": "stdout",
          "output_type": "stream",
          "text": "a // b = 3\n"
        }
      ],
      "execution_count": 16
    },
    {
      "id": "58f3fe99-eeb6-4c01-9519-ee388f51c1ed",
      "cell_type": "markdown",
      "source": "- (iv) **\n\nExponentiation: a raised to the power b",
      "metadata": {}
    },
    {
      "id": "783b2b2e-632c-416b-94e7-ab441331173b",
      "cell_type": "code",
      "source": "print(\"a ** b =\", a ** b)",
      "metadata": {
        "trusted": true
      },
      "outputs": [
        {
          "name": "stdout",
          "output_type": "stream",
          "text": "a ** b = 1000\n"
        }
      ],
      "execution_count": 17
    },
    {
      "id": "d12142b4-b3ee-4f47-8e69-915e1ee72c99",
      "cell_type": "code",
      "source": "",
      "metadata": {
        "trusted": true
      },
      "outputs": [],
      "execution_count": null
    },
    {
      "id": "6021ab5a-d6f6-491c-aa44-b45152a80f26",
      "cell_type": "markdown",
      "source": "### Q4. Create a list of length 10 of your choice containing multiple types of data. Using for loop print the element and its data type.",
      "metadata": {}
    },
    {
      "id": "9415c7e2-ad3d-45ab-89bc-7109bbadc939",
      "cell_type": "markdown",
      "source": "#### Answer :",
      "metadata": {}
    },
    {
      "id": "f004cfc1-88fa-4dac-8774-3f0d49621ca1",
      "cell_type": "code",
      "source": "my_list = [1, \"Python\", 3.14, True, [1,2], (3,4), {\"key\": \"value\"}, None, {1, 2}, complex(2, 3)]\n\nfor item in my_list:\n    print(f\"Element: {item} --> Type: {type(item)}\")",
      "metadata": {
        "trusted": true
      },
      "outputs": [
        {
          "name": "stdout",
          "output_type": "stream",
          "text": "Element: 1 --> Type: <class 'int'>\nElement: Python --> Type: <class 'str'>\nElement: 3.14 --> Type: <class 'float'>\nElement: True --> Type: <class 'bool'>\nElement: [1, 2] --> Type: <class 'list'>\nElement: (3, 4) --> Type: <class 'tuple'>\nElement: {'key': 'value'} --> Type: <class 'dict'>\nElement: None --> Type: <class 'NoneType'>\nElement: {1, 2} --> Type: <class 'set'>\nElement: (2+3j) --> Type: <class 'complex'>\n"
        }
      ],
      "execution_count": 18
    },
    {
      "id": "d93c5f3c-fd62-4234-ae95-56c0166a04bc",
      "cell_type": "code",
      "source": "",
      "metadata": {
        "trusted": true
      },
      "outputs": [],
      "execution_count": null
    },
    {
      "id": "d444dfab-610f-4f6c-9da9-053f9c786603",
      "cell_type": "markdown",
      "source": "### Q5. Using a while loop, verify if the number A is purely divisible by number B and if so then how many times it can be divisible.",
      "metadata": {}
    },
    {
      "id": "48b9e164-f704-4701-961c-56b4eb579362",
      "cell_type": "markdown",
      "source": "#### Answer :",
      "metadata": {}
    },
    {
      "id": "910ba82d-3b5e-4f9b-8781-55ea59ba765a",
      "cell_type": "code",
      "source": "A = 20\nB = 2\ncount = 0\n\ntemp = A\nwhile temp % B == 0:\n    temp = temp // B\n    count += 1\n\nif count > 0:\n    print(f\"{A} is divisible by {B}, {count} times.\")\nelse:\n    print(f\"{A} is not divisible by {B}.\")",
      "metadata": {
        "trusted": true
      },
      "outputs": [
        {
          "name": "stdout",
          "output_type": "stream",
          "text": "20 is divisible by 2, 2 times.\n"
        }
      ],
      "execution_count": 38
    },
    {
      "id": "a05c2673-960f-4bd0-b1a9-8161f99f928f",
      "cell_type": "code",
      "source": "",
      "metadata": {
        "trusted": true
      },
      "outputs": [],
      "execution_count": null
    },
    {
      "id": "92ce4759-bdaf-4c67-94f5-de0e423b27c5",
      "cell_type": "markdown",
      "source": "### Q6. Create a list containing 25 int type data. Using for loop and if-else condition print if the element is divisible by 3 or not.",
      "metadata": {}
    },
    {
      "id": "87b18502-690e-4d55-9ea0-0ee7174e609a",
      "cell_type": "markdown",
      "source": "#### Answer :",
      "metadata": {}
    },
    {
      "id": "c1399554-7b16-4cd9-867c-278c961997c3",
      "cell_type": "code",
      "source": "numbers = list(range(1, 26))\n\nfor num in numbers:\n    if num % 3 == 0:\n        print(f\"{num} is divisible by 3\")\n    else:\n        print(f\"{num} is not divisible by 3\")",
      "metadata": {
        "trusted": true
      },
      "outputs": [
        {
          "name": "stdout",
          "output_type": "stream",
          "text": "1 is not divisible by 3\n2 is not divisible by 3\n3 is divisible by 3\n4 is not divisible by 3\n5 is not divisible by 3\n6 is divisible by 3\n7 is not divisible by 3\n8 is not divisible by 3\n9 is divisible by 3\n10 is not divisible by 3\n11 is not divisible by 3\n12 is divisible by 3\n13 is not divisible by 3\n14 is not divisible by 3\n15 is divisible by 3\n16 is not divisible by 3\n17 is not divisible by 3\n18 is divisible by 3\n19 is not divisible by 3\n20 is not divisible by 3\n21 is divisible by 3\n22 is not divisible by 3\n23 is not divisible by 3\n24 is divisible by 3\n25 is not divisible by 3\n"
        }
      ],
      "execution_count": 34
    },
    {
      "id": "e1213d01-d685-48e5-85d2-65979cfb63ef",
      "cell_type": "code",
      "source": "",
      "metadata": {
        "trusted": true
      },
      "outputs": [],
      "execution_count": null
    },
    {
      "id": "a03fe99e-5136-48a2-ba78-a062f07b2238",
      "cell_type": "markdown",
      "source": "### Q7. What do you understand about mutable and immutable data types? Give examples for both showing this property.",
      "metadata": {}
    },
    {
      "id": "c7f0b653-ba2d-4e51-862e-23a6057b55d1",
      "cell_type": "markdown",
      "source": "#### Answer :",
      "metadata": {}
    },
    {
      "id": "55c544d1-13f2-4daf-896d-47d710f46f49",
      "cell_type": "code",
      "source": "# Mutable: List\nmutable_list = [1, 2, 3]\nprint(\"Original List:\", mutable_list)\nmutable_list[0] = 100\nprint(\"Modified List:\", mutable_list)\n\n# Immutable: Tuple\nimmutable_tuple = (1, 2, 3)\nprint(\"Original Tuple:\", immutable_tuple)\ntry:\n    immutable_tuple[0] = 100\nexcept TypeError as e:\n    print(\"Error:\", e)",
      "metadata": {
        "trusted": true
      },
      "outputs": [
        {
          "name": "stdout",
          "output_type": "stream",
          "text": "Original List: [1, 2, 3]\nModified List: [100, 2, 3]\nOriginal Tuple: (1, 2, 3)\nError: 'tuple' object does not support item assignment\n"
        }
      ],
      "execution_count": 35
    },
    {
      "id": "3c9d278e-4f07-4234-8440-7113e31f97cd",
      "cell_type": "markdown",
      "source": "Lists are mutable so the elements inside the List can be changed but Tuples are immutable so the elements inside the Tuple cannot be changed",
      "metadata": {}
    },
    {
      "id": "437b03d8-9a7f-4300-9559-756d44688c29",
      "cell_type": "code",
      "source": "",
      "metadata": {
        "trusted": true
      },
      "outputs": [],
      "execution_count": null
    },
    {
      "id": "36d0f3e6-91a3-4508-bf24-98ddf54e63a8",
      "cell_type": "code",
      "source": "Submitted By : Subhajit",
      "metadata": {
        "trusted": true
      },
      "outputs": [],
      "execution_count": null
    }
  ]
}